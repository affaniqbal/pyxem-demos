{
 "cells": [
  {
   "cell_type": "markdown",
   "metadata": {},
   "source": [
    "This tutorial demonstrates data processing steps specifically as applied to scanning electron diffraction (SED) datasets acquired at the Electron Physical Sciences Imaging Centre (ePSIC) using the Merlin-Medipix detector system installed on E02. Helfpul code snippets are provided to deal with the file structures and formats associated with this system."
   ]
  },
  {
   "cell_type": "markdown",
   "metadata": {},
   "source": [
    "# Change Log"
   ]
  },
  {
   "cell_type": "markdown",
   "metadata": {},
   "source": [
    "25/03/18 Duncan Johnstone - Developed for ePSIC HyperSpy Workshop"
   ]
  },
  {
   "cell_type": "markdown",
   "metadata": {},
   "source": [
    "# Requirements"
   ]
  },
  {
   "cell_type": "markdown",
   "metadata": {},
   "source": [
    "pyXem 0.5\n",
    "\n",
    "HyperSpy 1.3\n",
    "\n",
    "PyMatGen"
   ]
  },
  {
   "cell_type": "markdown",
   "metadata": {},
   "source": [
    "# Materials & Methods"
   ]
  },
  {
   "cell_type": "markdown",
   "metadata": {},
   "source": [
    "Data used in this useage example was acquired from a calibration standard Au cross-grating (Agar Scientific) using the ePSIC JEOL GrandARM 300F, operated at 200kV with diffraction patterns recorded using the Merlin-Medipix detector. The convergence angle is ~1.6 mrad, the probe diameter is ~1.6 nm, probe current ~15 pA and the camera length was 15 cm.\n",
    "\n",
    "Data was saved in the .mib file format using timestamping to create a numerous separate directories."
   ]
  },
  {
   "cell_type": "markdown",
   "metadata": {},
   "source": [
    "# Contents"
   ]
  },
  {
   "cell_type": "markdown",
   "metadata": {},
   "source": [
    "1. <a href='#loa'> Loading & Data Conversion</a>\n",
    "2. <a href='#vdf'> Inspection & Virtual Diffraction Imaging</a>\n",
    "3. <a href='#vec'> Peak Finding & Vector Analysis</a>"
   ]
  },
  {
   "cell_type": "markdown",
   "metadata": {},
   "source": [
    "Import pyXem and other required libraries"
   ]
  },
  {
   "cell_type": "code",
   "execution_count": null,
   "metadata": {},
   "outputs": [],
   "source": [
    "%matplotlib tk\n",
    "import pyxem as pxm\n",
    "import numpy as np\n",
    "import os"
   ]
  },
  {
   "cell_type": "markdown",
   "metadata": {},
   "source": [
    "# <a id='loa'></a> 1. Loading and Data Conversion"
   ]
  },
  {
   "cell_type": "markdown",
   "metadata": {},
   "source": [
    "Create a list of file names for iteration by walking through timestamped directories"
   ]
  },
  {
   "cell_type": "code",
   "execution_count": null,
   "metadata": {
    "collapsed": true
   },
   "outputs": [],
   "source": [
    "filenames = []\n",
    "for root, dirs, files in os.walk(\"./demo_mib_data/\"):\n",
    "    for file in files:\n",
    "        if file.endswith(\".hdr\"):\n",
    "             filenames.append(os.path.join(root, file))"
   ]
  },
  {
   "cell_type": "code",
   "execution_count": null,
   "metadata": {},
   "outputs": [],
   "source": [
    "filenames"
   ]
  },
  {
   "cell_type": "markdown",
   "metadata": {},
   "source": [
    "Define corresponding lists of calibration values based on experimental conditions"
   ]
  },
  {
   "cell_type": "code",
   "execution_count": null,
   "metadata": {
    "collapsed": true
   },
   "outputs": [],
   "source": [
    "#Both datasets acquired with same camera length, this value is A-1 / pixel\n",
    "recip_cals = [0.00889, 0.00889]\n",
    "#Scans performed at different magnifications, this value is nm/pixel\n",
    "real_cals = [5.0, 4.0]"
   ]
  },
  {
   "cell_type": "markdown",
   "metadata": {},
   "source": [
    "Select one example of each of the above parameters"
   ]
  },
  {
   "cell_type": "code",
   "execution_count": null,
   "metadata": {
    "collapsed": true
   },
   "outputs": [],
   "source": [
    "fname = filenames[0]\n",
    "tstamp = os.path.dirname(fname)[-6:]\n",
    "recip_cal = recip_cals[0]\n",
    "real_cal = real_cals[0]"
   ]
  },
  {
   "cell_type": "markdown",
   "metadata": {},
   "source": [
    "Load dataset, crop direct beam region and perform alignment"
   ]
  },
  {
   "cell_type": "code",
   "execution_count": null,
   "metadata": {
    "collapsed": true
   },
   "outputs": [],
   "source": [
    "dp = pxm.load_mib(fname, scan_size=256)\n",
    "#crop center\n",
    "roi = pxm.roi.RectangularROI(left=103, top=103, right=153, bottom=153)\n",
    "dpc = roi(dp, axes=dp.axes_manager.signal_axes)\n",
    "#perform alignment\n",
    "centers = dpc.get_direct_beam_position(sigma=3)\n",
    "shifts = centers.data - np.array((25,25))\n",
    "shifts = shifts.reshape(65025, 2)\n",
    "dp.align2D(shifts=shifts, crop=False, fill_value=0)"
   ]
  },
  {
   "cell_type": "markdown",
   "metadata": {},
   "source": [
    "Set calibration values"
   ]
  },
  {
   "cell_type": "code",
   "execution_count": null,
   "metadata": {
    "collapsed": true
   },
   "outputs": [],
   "source": [
    "dp.set_diffraction_calibration(recip_cal)\n",
    "dp.set_scan_calibration(real_cal)"
   ]
  },
  {
   "cell_type": "markdown",
   "metadata": {},
   "source": [
    "Save data, representative summed diffraction, and virtual images"
   ]
  },
  {
   "cell_type": "code",
   "execution_count": null,
   "metadata": {
    "collapsed": true
   },
   "outputs": [],
   "source": [
    "dp.save('./epsic_eg_' + tstamp)\n",
    "#summed diffraction\n",
    "dpeg = dp.sum((0,1))\n",
    "dpeg.change_dtype('float32')\n",
    "dpeg.save('./epsic_eg_dpeg_' + tstamp + '.tif')\n",
    "#vbf image\n",
    "circ = pxm.roi.CircleROI(cx=0, cy=0, r=10*recip_cal)\n",
    "vbf = dp.get_virtual_image(circ)\n",
    "vbf = vbf.as_signal2D((0,1))\n",
    "vbf.change_dtype('float32')\n",
    "vbf.save('./epsic_eg_vbf_' + tstamp + '.tif')\n",
    "#vdf image\n",
    "ann = pxm.roi.CircleROI(cx=0, cy=0, r=100*recip_cal, r_inner=50*recip_cal)\n",
    "vdf = dp.get_virtual_image(ann)\n",
    "vdf = vdf.as_signal2D((0,1))\n",
    "vdf.change_dtype('float32')\n",
    "vdf.save('./epsic_eg_vdf_' + tstamp + '.tif')"
   ]
  },
  {
   "cell_type": "markdown",
   "metadata": {},
   "source": [
    "The steps above can be combined into a loop, as follows."
   ]
  },
  {
   "cell_type": "code",
   "execution_count": null,
   "metadata": {},
   "outputs": [],
   "source": [
    "i=0\n",
    "for fname in filenames:\n",
    "    tstamp = os.path.dirname(fname)[-6:]\n",
    "    #load data\n",
    "    dp = pxm.load_mib(fname, scan_size=256)\n",
    "    #crop center\n",
    "    roi = pxm.roi.RectangularROI(left=103, top=103, right=153, bottom=153)\n",
    "    dpc = roi(dp, axes=dp.axes_manager.signal_axes)\n",
    "    #perform alignment\n",
    "    centers = dpc.get_direct_beam_position(sigma=3)\n",
    "    shifts = centers.data - np.array((25,25))\n",
    "    shifts = shifts.reshape(65025, 2)\n",
    "    dp.align2D(shifts=shifts, crop=False, fill_value=0)\n",
    "    #set calibrations\n",
    "    dp.set_diffraction_calibration(recip_cals[i])\n",
    "    dp.set_scan_calibration(real_cals[i])\n",
    "    #save data\n",
    "    dp.save('./epsic_eg_' + tstamp)\n",
    "    #summed diffraction\n",
    "    dpeg = dp.sum((0,1))\n",
    "    dpeg.change_dtype('float32')\n",
    "    dpeg.save('./epsic_eg_dpeg_' + tstamp + '.tif')\n",
    "    #vbf image\n",
    "    circ = pxm.roi.CircleROI(cx=0, cy=0, r=10*recip_cals[i])\n",
    "    vbf = dp.get_virtual_image(circ)\n",
    "    vbf = vbf.as_signal2D((0,1))\n",
    "    vbf.change_dtype('float32')\n",
    "    vbf.save('./epsic_eg_vbf_' + tstamp + '.tif')\n",
    "    #vdf image\n",
    "    ann = pxm.roi.CircleROI(cx=0, cy=0, r=100*recip_cals[i], r_inner=50*recip_cals[i])\n",
    "    vdf = dp.get_virtual_image(ann)\n",
    "    vdf = vdf.as_signal2D((0,1))\n",
    "    vdf.change_dtype('float32')\n",
    "    vdf.save('./epsic_eg_vdf_' + tstamp + '.tif')\n",
    "    i=i+1"
   ]
  },
  {
   "cell_type": "markdown",
   "metadata": {},
   "source": [
    "# 2. <a href='#vdf'></a> Inspection & Virtual Diffraction Imaging"
   ]
  },
  {
   "cell_type": "markdown",
   "metadata": {},
   "source": [
    "Load the converted data and reset calibrations"
   ]
  },
  {
   "cell_type": "code",
   "execution_count": null,
   "metadata": {
    "collapsed": true
   },
   "outputs": [],
   "source": [
    "dp = pxm.load('./epsic_eg_111859.hspy')\n",
    "dp = pxm.ElectronDiffraction(dp)\n",
    "dp.set_diffraction_calibration(recip_cal)\n",
    "dp.set_scan_calibration(real_cal)"
   ]
  },
  {
   "cell_type": "markdown",
   "metadata": {},
   "source": [
    "Inspect the data via virtual imaging"
   ]
  },
  {
   "cell_type": "code",
   "execution_count": null,
   "metadata": {},
   "outputs": [],
   "source": [
    "roi = pxm.roi.CircleROI(cx=0.,cy=0, r_inner=0, r=0.07)\n",
    "dp.plot_interactive_virtual_image(roi=roi)"
   ]
  },
  {
   "cell_type": "markdown",
   "metadata": {},
   "source": [
    "# 3. <a href='#vec'> </a> Peak Finding & Vector Analysis"
   ]
  },
  {
   "cell_type": "markdown",
   "metadata": {},
   "source": [
    "Choose a region to crop to keep things faster"
   ]
  },
  {
   "cell_type": "code",
   "execution_count": null,
   "metadata": {},
   "outputs": [],
   "source": [
    "reg = pxm.roi.RectangularROI(left=50, top=750, right=290, bottom=990)\n",
    "dp.plot()\n",
    "reg.add_widget(dp)"
   ]
  },
  {
   "cell_type": "markdown",
   "metadata": {},
   "source": [
    "Crop the region"
   ]
  },
  {
   "cell_type": "code",
   "execution_count": null,
   "metadata": {
    "collapsed": true
   },
   "outputs": [],
   "source": [
    "dpc = reg(dp)"
   ]
  },
  {
   "cell_type": "markdown",
   "metadata": {},
   "source": [
    "Find the peaks"
   ]
  },
  {
   "cell_type": "code",
   "execution_count": null,
   "metadata": {
    "collapsed": true
   },
   "outputs": [],
   "source": [
    "peaks = dpb.find_peaks(method='difference_of_gaussians',\n",
    "                        min_sigma=1.,\n",
    "                        max_sigma=6.,\n",
    "                        sigma_ratio=1.6,\n",
    "                        threshold=0.04,\n",
    "                        overlap=0.99)"
   ]
  },
  {
   "cell_type": "markdown",
   "metadata": {},
   "source": [
    "Inspect the lengths of the found peaks"
   ]
  },
  {
   "cell_type": "code",
   "execution_count": null,
   "metadata": {
    "collapsed": true
   },
   "outputs": [],
   "source": [
    "bins = np.arange(0, 1.5, recip_cal)\n",
    "ghist = peaks.get_magnitude_histogram(bins=bins)\n",
    "ghist.plot()"
   ]
  }
 ],
 "metadata": {
  "anaconda-cloud": {},
  "kernelspec": {
   "display_name": "Python 3",
   "language": "python",
   "name": "python3"
  },
  "language_info": {
   "codemirror_mode": {
    "name": "ipython",
    "version": 3
   },
   "file_extension": ".py",
   "mimetype": "text/x-python",
   "name": "python",
   "nbconvert_exporter": "python",
   "pygments_lexer": "ipython3",
   "version": "3.6.3"
  },
  "widgets": {
   "state": {},
   "version": "1.1.2"
  }
 },
 "nbformat": 4,
 "nbformat_minor": 1
}
