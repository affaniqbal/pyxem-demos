{
 "cells": [
  {
   "cell_type": "code",
   "execution_count": null,
   "metadata": {
    "collapsed": true
   },
   "outputs": [],
   "source": [
    "%matplotlib tk\n",
    "import pyxem as pxm\n",
    "import hyperspy.api as hs\n",
    "import numpy as np\n",
    "import os"
   ]
  },
  {
   "cell_type": "markdown",
   "metadata": {},
   "source": [
    "# Au Calibration"
   ]
  },
  {
   "cell_type": "code",
   "execution_count": null,
   "metadata": {
    "collapsed": true
   },
   "outputs": [],
   "source": [
    "filenames = []\n",
    "for root, dirs, files in os.walk(\"/home/hremadmin/Documents/Pharma_EM17997/day5/AuCalibrationSunday/\"):\n",
    "    for file in files:\n",
    "        if file.endswith(\".mib\"):\n",
    "             filenames.append(os.path.join(root, file))"
   ]
  },
  {
   "cell_type": "code",
   "execution_count": null,
   "metadata": {
    "collapsed": true
   },
   "outputs": [],
   "source": [
    "filenames[-1]"
   ]
  },
  {
   "cell_type": "code",
   "execution_count": null,
   "metadata": {
    "collapsed": true
   },
   "outputs": [],
   "source": [
    "n_images = 256*256\n",
    "\n",
    "def load_mib_scan_data(fname, dtype, n_images):\n",
    "    offset = 192\n",
    "    #read the binary data from file\n",
    "    raw_image = np.fromfile(fname, dtype = dtype)\n",
    "    #define empty numpy array into which the data arranged\n",
    "    raw_image2 = np.zeros((256,256, n_images), dtype=dtype)\n",
    "    #add each frame into the data array\n",
    "    for n in np.arange(n_images):\n",
    "        temp_slice = raw_image[n*(256**2) + (n+1) * offset :(n+1)*(256**2) + (n+1) * offset]\n",
    "        raw_image2[:,:,n] = np.reshape(temp_slice,(256,256))\n",
    "    raw_image = None\n",
    "    #convert data stack to HyperSpy Signal2D\n",
    "    dat = hs.signals.Signal2D(raw_image2.reshape(256,256,256,256)).T\n",
    "    #sum the dffraction and slow scan dimensions to obtain line trace for flyback edge\n",
    "    trace = dat.sum((1,2,3))\n",
    "    edge = np.where(trace==max(trace.data))[0][0]\n",
    "    #return the rearranged data as a HyperSpy signal\n",
    "    return hs.signals.Signal2D(np.concatenate((dat.inav[edge+1:,1:], dat.inav[0:edge,1:]), axis=1))"
   ]
  },
  {
   "cell_type": "code",
   "execution_count": null,
   "metadata": {
    "collapsed": true
   },
   "outputs": [],
   "source": [
    "dp = load_mib_scan_data(fname=filenames[-1], dtype='uint16', n_images=n_images)"
   ]
  },
  {
   "cell_type": "code",
   "execution_count": null,
   "metadata": {
    "collapsed": true
   },
   "outputs": [],
   "source": [
    "dp.plot()"
   ]
  },
  {
   "cell_type": "code",
   "execution_count": null,
   "metadata": {
    "collapsed": true
   },
   "outputs": [],
   "source": [
    "dp.save('/home/hremadmin/Documents/RefAu_EM17997_5_10umCLap_15cmL_150kX')"
   ]
  },
  {
   "cell_type": "code",
   "execution_count": null,
   "metadata": {
    "collapsed": true
   },
   "outputs": [],
   "source": [
    "dpeg = dp.sum((0,1))"
   ]
  },
  {
   "cell_type": "code",
   "execution_count": null,
   "metadata": {
    "collapsed": true
   },
   "outputs": [],
   "source": [
    "dpeg.change_dtype('float32')"
   ]
  },
  {
   "cell_type": "code",
   "execution_count": null,
   "metadata": {
    "collapsed": true
   },
   "outputs": [],
   "source": [
    "dpeg.save('/home/hremadmin/Documents/RefAu_EM17997_5_10umCLap_15cmL.tif')"
   ]
  },
  {
   "cell_type": "code",
   "execution_count": null,
   "metadata": {
    "collapsed": true
   },
   "outputs": [],
   "source": [
    "dpeg.plot(vmax=1e8)"
   ]
  },
  {
   "cell_type": "code",
   "execution_count": null,
   "metadata": {
    "collapsed": true
   },
   "outputs": [],
   "source": [
    "trace = pxm.roi.Line2DROI(x1=5,y1=5, x2=250,y2=250, linewidth=5)"
   ]
  },
  {
   "cell_type": "code",
   "execution_count": null,
   "metadata": {
    "collapsed": true
   },
   "outputs": [],
   "source": [
    "trace.add_widget(dpeg)"
   ]
  },
  {
   "cell_type": "code",
   "execution_count": null,
   "metadata": {
    "collapsed": true
   },
   "outputs": [],
   "source": [
    "line = trace(dpeg)"
   ]
  },
  {
   "cell_type": "code",
   "execution_count": null,
   "metadata": {
    "collapsed": true
   },
   "outputs": [],
   "source": [
    "line.plot()"
   ]
  },
  {
   "cell_type": "code",
   "execution_count": null,
   "metadata": {
    "collapsed": true
   },
   "outputs": [],
   "source": [
    "im = dp.sum((2,3))"
   ]
  },
  {
   "cell_type": "code",
   "execution_count": null,
   "metadata": {
    "collapsed": true
   },
   "outputs": [],
   "source": [
    "im=im.as_signal2D((0,1))"
   ]
  },
  {
   "cell_type": "code",
   "execution_count": null,
   "metadata": {
    "collapsed": true
   },
   "outputs": [],
   "source": [
    "im.plot()"
   ]
  },
  {
   "cell_type": "code",
   "execution_count": null,
   "metadata": {
    "collapsed": true
   },
   "outputs": [],
   "source": [
    "im.change_dtype('float32')"
   ]
  },
  {
   "cell_type": "code",
   "execution_count": null,
   "metadata": {
    "collapsed": true
   },
   "outputs": [],
   "source": [
    "im.save('/home/hremadmin/Documents/RefAu_EM17997_5_10umCLap_150kX.tif')"
   ]
  },
  {
   "cell_type": "markdown",
   "metadata": {},
   "source": [
    "# Inspect data"
   ]
  },
  {
   "cell_type": "code",
   "execution_count": null,
   "metadata": {
    "collapsed": true
   },
   "outputs": [],
   "source": [
    "filenames = []\n",
    "for root, dirs, files in os.walk(\"/epsic_eg/\"):\n",
    "    for file in files:\n",
    "        if file.endswith(\".hdr\"):\n",
    "             filenames.append(os.path.join(root, file))"
   ]
  },
  {
   "cell_type": "code",
   "execution_count": null,
   "metadata": {
    "collapsed": true
   },
   "outputs": [],
   "source": [
    "for fname in filenames:\n",
    "    tstamp = os.path.dirname(fname)[-6:]\n",
    "    #load data\n",
    "    dp = pxm.load_mib(fname, scan_size=256)\n",
    "    #crop center\n",
    "    roi = hs.roi.RectangularROI(left=103, top=103, right=153, bottom=153)\n",
    "    dpc = roi(dp, axes=dp.axes_manager.signal_axes)\n",
    "    #perform alignment\n",
    "    centers = dpc.get_direct_beam_position(sigma=3)\n",
    "    shifts = centers.data - np.array((25,25))\n",
    "    shifts = shifts.reshape(65025, 2)\n",
    "    dp.align2D(shifts=shifts, crop=False, fill_value=0)\n",
    "    #set calibrations\n",
    "    dp.set_calibration(0.00889)\n",
    "    dp.axes_manager.navigation_axes[0].scale = 5.033\n",
    "    dp.axes_manager.navigation_axes[1].scale = 5.033\n",
    "    dp.axes_manager.navigation_axes[0].units = 'nm'\n",
    "    dp.axes_manager.navigation_axes[1].units = 'nm'\n",
    "    #save data\n",
    "    dp.save('epsic_eg/' + tstamp)\n",
    "    #summed diffraction\n",
    "    dpeg = dp.sum((0,1))\n",
    "    dpeg.change_dtype('float32')\n",
    "    dpeg.save('epsic_eg/' + tstamp + '.tif')\n",
    "    #vbf image\n",
    "    circ = hs.roi.CircleROI(cx=0, cy=0, r=10*0.00889)\n",
    "    vbf = dp.get_virtual_image(circ)\n",
    "    vbf = vbf.as_signal2D((0,1))\n",
    "    vbf.change_dtype('float32')\n",
    "    vbf.save('epsic_eg/' + tstamp + '.tif')\n",
    "    #vdf image\n",
    "    ann = hs.roi.CircleROI(cx=0, cy=0, r=100*0.00889, r_inner=50*0.00889)\n",
    "    vdf = dp.get_virtual_image(ann)\n",
    "    vdf = vdf.as_signal2D((0,1))\n",
    "    vdf.change_dtype('float32')\n",
    "    vdf.save('epsic_eg' + tstamp + '.tif')"
   ]
  }
 ],
 "metadata": {
  "anaconda-cloud": {},
  "kernelspec": {
   "display_name": "Python 3",
   "language": "python",
   "name": "python3"
  },
  "language_info": {
   "codemirror_mode": {
    "name": "ipython",
    "version": 3
   },
   "file_extension": ".py",
   "mimetype": "text/x-python",
   "name": "python",
   "nbconvert_exporter": "python",
   "pygments_lexer": "ipython3",
   "version": "3.6.3"
  },
  "widgets": {
   "state": {},
   "version": "1.1.2"
  }
 },
 "nbformat": 4,
 "nbformat_minor": 1
}
